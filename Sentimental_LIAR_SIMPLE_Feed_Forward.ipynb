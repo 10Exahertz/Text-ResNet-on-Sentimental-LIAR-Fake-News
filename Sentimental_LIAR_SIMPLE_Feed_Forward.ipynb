{
  "nbformat": 4,
  "nbformat_minor": 0,
  "metadata": {
    "accelerator": "GPU",
    "colab": {
      "name": "Sentimental_LIAR_SIMPLE.ipynb",
      "provenance": [],
      "mount_file_id": "1s21mJVVaHalFZvHO4_MHOX5a2audsmqH",
      "authorship_tag": "ABX9TyMnguaR4+oX62of+pjXR4VT",
      "include_colab_link": true
    },
    "kernelspec": {
      "display_name": "Python 3",
      "name": "python3"
    },
    "language_info": {
      "name": "python"
    }
  },
  "cells": [
    {
      "cell_type": "markdown",
      "metadata": {
        "id": "view-in-github",
        "colab_type": "text"
      },
      "source": [
        "<a href=\"https://colab.research.google.com/github/10Exahertz/Text-ResNet-on-Sentimental-LIAR-Fake-News/blob/main/Sentimental_LIAR_SIMPLE_Feed_Forward.ipynb\" target=\"_parent\"><img src=\"https://colab.research.google.com/assets/colab-badge.svg\" alt=\"Open In Colab\"/></a>"
      ]
    },
    {
      "cell_type": "code",
      "metadata": {
        "id": "X1UFScqUBzH_"
      },
      "source": [
        ""
      ],
      "execution_count": null,
      "outputs": []
    },
    {
      "cell_type": "markdown",
      "metadata": {
        "id": "XPYlAiZlGHjx"
      },
      "source": [
        "\n",
        "This is the code for the paper: https://github.com/10Exahertz/Text-ResNet-on-Sentimental-LIAR-Fake-News\n",
        "\n",
        "Sentimental LIAR: Extended Corpus with a simple Feed Forward Network\n",
        "\n",
        "This Network was created for testing purposes to ensure that the ResNet and CNN architectures were actually using the statements embeddings to make decisions. Based on the performance slash we get here we can say it indeed does."
      ]
    },
    {
      "cell_type": "code",
      "metadata": {
        "colab": {
          "base_uri": "https://localhost:8080/"
        },
        "id": "Qhy5BD7fGQPY",
        "outputId": "864afdf1-bc0a-4a84-f7bd-8b14a5840946"
      },
      "source": [
        "!pip install -q transformers\n",
        "!pip install sentencepiece"
      ],
      "execution_count": null,
      "outputs": [
        {
          "output_type": "stream",
          "text": [
            "Requirement already satisfied: sentencepiece in /usr/local/lib/python3.7/dist-packages (0.1.95)\n"
          ],
          "name": "stdout"
        }
      ]
    },
    {
      "cell_type": "code",
      "metadata": {
        "colab": {
          "base_uri": "https://localhost:8080/"
        },
        "id": "hBbgMqYwGche",
        "outputId": "ec7df184-b847-4244-a33e-b737b4fbe32d"
      },
      "source": [
        "\n",
        "import pandas as pd\n",
        "df=pd.read_csv(\"/content/drive/MyDrive/Bibek/LIAR-DATASET ORIGINAL/final/train_final.csv\")\n",
        "df_test=pd.read_csv(\"/content/drive/MyDrive/Bibek/LIAR-DATASET ORIGINAL/final/test_final.csv\")\n",
        "df_valid=pd.read_csv(\"/content/drive/MyDrive/Bibek/LIAR-DATASET ORIGINAL/final/valid_final.csv\")\n",
        "print(\"before truncating size of data is :\", df.shape, df_test.shape,df_valid.shape)\n",
        "df=df[:10232] #10208\n",
        "df_test=df_test[:1264] #1248\n",
        "df_valid=df_valid[:1280] #1280\n",
        "print(\"size of data is :\", df.shape, df_test.shape, df_valid.shape)\n",
        "\n",
        "\n",
        "#check if any null values are present\n",
        "print(\"Any null in Subject? \",df['subject'].isnull().values.any())\n",
        "print(\"Any null in Speaker? \",df['speaker'].isnull().values.any())\n",
        "print(\"Any null in speaker_job? \",df['speaker_job'].isnull().values.any())\n",
        "print(\"Any null in Party? \",df['party_affiliation'].isnull().values.any())\n",
        "print(\"Any null in Context? \",df['context'].isnull().values.any())\n",
        "\n",
        "\n",
        "# def listV2Out(inputLabel):\n",
        "#   if inputLabel == 'pants-fire':\n",
        "#     return '[1,0,0,0,0]'\n",
        "#   if inputLabel == 'false':\n",
        "#     return '[0,1,0,0,0]'\n",
        "#   if inputLabel == 'barely-true':\n",
        "#     return '[0,0,1,0,0]'\n",
        "#   if inputLabel == 'half-true':\n",
        "#     return '[0,0,0,1,0]'\n",
        "#   if inputLabel == 'mostly-true':\n",
        "#     return '[0,0,0,0,1]'\n",
        "#   if inputLabel == 'true':\n",
        "#     return '[0,0,0,0,1]'\n",
        "# pd.set_option('display.max_columns', None)\n",
        "# df['listV2'] = 0\n",
        "# for i in range(len(df)):\n",
        "#   df.loc[i,'listV2'] = listV2Out(df.loc[i,'label'])\n",
        "# df_test['listV2'] = 0\n",
        "# for i in range(len(df_test)):\n",
        "#   df_test.loc[i,'listV2'] = listV2Out(df_test.loc[i,'label'])\n",
        "# df_valid['listV2'] = 0\n",
        "# for i in range(len(df_valid)):\n",
        "#   df_valid.loc[i,'listV2'] = listV2Out(df_valid.loc[i,'label'])\n",
        "\n",
        "# print(\"Any null in ListV2? \",df['listV2'].isnull().values.any())\n"
      ],
      "execution_count": null,
      "outputs": [
        {
          "output_type": "stream",
          "text": [
            "before truncating size of data is : (10236, 31) (1267, 30) (1283, 31)\n",
            "size of data is : (10232, 31) (1264, 30) (1280, 31)\n",
            "Any null in Subject?  False\n",
            "Any null in Speaker?  False\n",
            "Any null in speaker_job?  True\n",
            "Any null in Party?  False\n",
            "Any null in Context?  True\n"
          ],
          "name": "stdout"
        }
      ]
    },
    {
      "cell_type": "code",
      "metadata": {
        "id": "gyAjCea6HKuG"
      },
      "source": [
        "\n",
        "df['comment_text']=\"\"\n",
        "df_test['comment_text']=\"\"\n",
        "df_valid[\"comment_text\"]=\"\"\n",
        "\n",
        "#combine all the columns into one for train, test and valid data\n",
        "\n",
        "# df['comment_text']=df['subject'].astype(str)+ \". \"+ df[\"statement\"]+\\\n",
        "# df['speaker_id'].astype(str)+\". \"+df['speaker_job'].astype(str)+\". \"+ df['party_affiliation'].astype(str)\\\n",
        "# +\". \"+df['context'].astype(str)+\". \"+df['sentiment_code'].astype(str)\n",
        "df['comment_text']= df['sentiment'].astype(str)\n",
        "\n",
        "# df_test['comment_text']=df_test['subject'].astype(str)+ \". \"+ df_test[\"statement\"]+\". \"+\\\n",
        "# df_test['speaker_id'].astype(str)+\". \"+df_test['speaker_job'].astype(str)+\". \"+ df_test['party_affiliation'].astype(str)\\\n",
        "# +\". \"+df_test['context'].astype(str)+\". \"+df['sentiment_code'].astype(str)\n",
        "df_test['comment_text']= df_test['sentiment'].astype(str)\n",
        "\n",
        "# df_valid['comment_text']=df_valid['subject'].astype(str)+ \". \"+ df_valid[\"statement\"]+\\\n",
        "# df_valid['speaker_id'].astype(str)+\". \"+df_valid['speaker_job'].astype(str)+\". \"+ df_valid['party_affiliation'].astype(str)\\\n",
        "# +\". \"+df_valid['context'].astype(str)+\". \"+df_valid['sentiment_code'].astype(str)\n",
        "df_valid['comment_text']= df_valid['sentiment'].astype(str)\n"
      ],
      "execution_count": null,
      "outputs": []
    },
    {
      "cell_type": "code",
      "metadata": {
        "id": "VVYgK5mGHomd"
      },
      "source": [
        "\n",
        "#concatenate emotion, speakers' credit and sentiment score togehter\n",
        "df['emotion']=\"[\"+df['anger'].astype(str)+\",\"+df['disgust'].astype(str)+\",\"\\\n",
        "+df['fear'].astype(str)+\",\"+df['joy'].astype(str)+\",\"+df['sad'].astype(str) + \",\"+df['sentiment_score'].astype(str) +\"]\" #+\",\"+\\\n",
        "# df[\"barely_true_counts\"].astype(str) +\",\"+ df[\"false_counts\"].astype(str)  +\",\"+\\\n",
        "# df[\"half_true_counts\"].astype(str) + \",\"+df[\"mostly_true_counts\"].astype(str) +\",\"+ \\\n",
        "# df[\"pants_on_fire_counts\"].astype(str)+\",\"+df[\"sentiment_score\"].astype(str)+\"]\"\n",
        "\n",
        "\n",
        "df_test['emotion']=\"[\"+df_test['anger'].astype(str)+\",\"+df_test['disgust'].astype(str)+\",\"\\\n",
        "+df_test['fear'].astype(str)+\",\"+df_test['joy'].astype(str)+\",\"+df_test['sad'].astype(str) +\",\"+df_test['sentiment_score'].astype(str) + \"]\"\n",
        "# + \",\"+df_test[\"barely_true_counts\"].astype(str) + \",\"+ df_test[\"false_counts\"].astype(str) \\\n",
        "# +\",\"+ df_test[\"half_true_counts\"].astype(str) +\",\"+ df_test[\"mostly_true_counts\"].astype(str)\\\n",
        "# +\",\"+ df_test[\"pants_on_fire_counts\"].astype(str)+\",\"+df_test[\"sentiment_score\"].astype(str)+\"]\"\n",
        "\n",
        "\n",
        "df_valid['emotion']=\"[\"+df_valid['anger'].astype(str)+\",\"+df_valid['disgust'].astype(str)+\",\"\\\n",
        "+df_valid['fear'].astype(str)+\",\"+df_valid['joy'].astype(str)+\",\"+df_valid['sad'].astype(str)+\",\"+df_valid['sentiment_score'].astype(str)+\"]\"\n",
        "# + \",\"+df_valid[\"barely_true_counts\"].astype(str) + \",\"+ df_valid[\"false_counts\"].astype(str) \\\n",
        "# +\",\"+ df_valid[\"half_true_counts\"].astype(str) +\",\"+ df_valid[\"mostly_true_counts\"].astype(str)\\\n",
        "# +\",\"+ df_valid[\"pants_on_fire_counts\"].astype(str)+\",\"+df_valid[\"sentiment_score\"].astype(str)+\"]\""
      ],
      "execution_count": null,
      "outputs": []
    },
    {
      "cell_type": "code",
      "metadata": {
        "id": "om2o14P3Huin"
      },
      "source": [
        "#target should be converted from string to the list\n",
        "import ast\n",
        "def convert_to_list(text):\n",
        "  return ast.literal_eval(text)"
      ],
      "execution_count": null,
      "outputs": []
    },
    {
      "cell_type": "code",
      "metadata": {
        "colab": {
          "base_uri": "https://localhost:8080/"
        },
        "id": "J2puH4ObHxaH",
        "outputId": "b7bd1f07-4463-478c-9503-6b18d1c98f95"
      },
      "source": [
        "for i in range(len(df[\"emotion\"])):\n",
        "  try:\n",
        "    df[\"emotion\"][i]=convert_to_list(df[\"emotion\"][i])\n",
        "  except:\n",
        "    print(i,\"====\",df[\"emotion\"][1])"
      ],
      "execution_count": null,
      "outputs": [
        {
          "output_type": "stream",
          "text": [
            "/usr/local/lib/python3.7/dist-packages/ipykernel_launcher.py:3: SettingWithCopyWarning: \n",
            "A value is trying to be set on a copy of a slice from a DataFrame\n",
            "\n",
            "See the caveats in the documentation: https://pandas.pydata.org/pandas-docs/stable/user_guide/indexing.html#returning-a-view-versus-a-copy\n",
            "  This is separate from the ipykernel package so we can avoid doing imports until\n"
          ],
          "name": "stderr"
        }
      ]
    },
    {
      "cell_type": "code",
      "metadata": {
        "colab": {
          "base_uri": "https://localhost:8080/"
        },
        "id": "H5YLrYzKHz9n",
        "outputId": "f4541009-1e38-4b7f-c142-8c8110a0b5e2"
      },
      "source": [
        "for i in range(len(df_valid[\"emotion\"])):\n",
        "  try:\n",
        "    df_valid[\"emotion\"][i]=convert_to_list(df_valid[\"emotion\"][i])\n",
        "  except:\n",
        "    print(i,\"====\",df_valid[\"emotion\"][i], type(df_valid[\"emotion\"][i]))"
      ],
      "execution_count": null,
      "outputs": [
        {
          "output_type": "stream",
          "text": [
            "/usr/local/lib/python3.7/dist-packages/ipykernel_launcher.py:3: SettingWithCopyWarning: \n",
            "A value is trying to be set on a copy of a slice from a DataFrame\n",
            "\n",
            "See the caveats in the documentation: https://pandas.pydata.org/pandas-docs/stable/user_guide/indexing.html#returning-a-view-versus-a-copy\n",
            "  This is separate from the ipykernel package so we can avoid doing imports until\n"
          ],
          "name": "stderr"
        }
      ]
    },
    {
      "cell_type": "code",
      "metadata": {
        "colab": {
          "base_uri": "https://localhost:8080/"
        },
        "id": "T6-j3_TvegZs",
        "outputId": "0e4a2393-b269-4a0d-f6bb-29818f24058d"
      },
      "source": [
        "for i in range(len(df_test[\"emotion\"])):\n",
        "  try:\n",
        "    df_test[\"emotion\"][i]=convert_to_list(df_test[\"emotion\"][i])\n",
        "  except:\n",
        "    print(i,\"====\",df_test[\"emotion\"][i], type(df_test[\"emotion\"][i]))"
      ],
      "execution_count": null,
      "outputs": [
        {
          "output_type": "stream",
          "text": [
            "/usr/local/lib/python3.7/dist-packages/ipykernel_launcher.py:3: SettingWithCopyWarning: \n",
            "A value is trying to be set on a copy of a slice from a DataFrame\n",
            "\n",
            "See the caveats in the documentation: https://pandas.pydata.org/pandas-docs/stable/user_guide/indexing.html#returning-a-view-versus-a-copy\n",
            "  This is separate from the ipykernel package so we can avoid doing imports until\n"
          ],
          "name": "stderr"
        }
      ]
    },
    {
      "cell_type": "code",
      "metadata": {
        "id": "ccwgxJyXH4FP"
      },
      "source": [
        "\n",
        "df['list']=df['list'].apply(convert_to_list)\n",
        "df_test['list']=df_test['list'].apply(convert_to_list)\n",
        "df_valid['list']=df_valid['list'].apply(convert_to_list)\n",
        "\n",
        "# df['listV2']=df['listV2'].apply(convert_to_list)\n",
        "# df_test['listV2']=df_test['listV2'].apply(convert_to_list)\n",
        "# df_valid['listV2']=df_valid['listV2'].apply(convert_to_list)\n",
        "\n",
        "for i in range(len(df)):\n",
        "  if df.loc[i,'list'][1] == 0:\n",
        "    df.loc[i,'list'] = 1\n",
        "  else:\n",
        "    df.loc[i,'list'] = 0\n",
        "\n",
        "for i in range(len(df_test)):\n",
        "  if df_test.loc[i,'list'][1] == 0:\n",
        "    df_test.loc[i,'list'] = 1\n",
        "  else:\n",
        "    df_test.loc[i,'list'] = 0\n",
        "\n",
        "for i in range(len(df_valid)):\n",
        "  if df_valid.loc[i,'list'][1] == 0:\n",
        "    df_valid.loc[i,'list'] = 1\n",
        "  else:\n",
        "    df_valid.loc[i,'list'] = 0\n",
        "\n"
      ],
      "execution_count": null,
      "outputs": []
    },
    {
      "cell_type": "code",
      "metadata": {
        "id": "p5-U_POpH62f"
      },
      "source": [
        " \n",
        "import numpy as np\n",
        "import pandas as pd\n",
        "from sklearn import metrics\n",
        "import transformers\n",
        "import torch\n",
        "torch.cuda.empty_cache()\n",
        "from torch.utils.data import Dataset, DataLoader, RandomSampler, SequentialSampler\n",
        "from transformers import BertConfig, BertModel, BertTokenizer, ElectraTokenizer, ElectraModel, ElectraConfig\n",
        " \n",
        "from torch import cuda\n",
        "device = 'cuda' if cuda.is_available() else 'cpu'\n",
        " \n",
        "MAX_LEN = 300\n",
        "TRAIN_BATCH_SIZE = 64\n",
        "VALID_BATCH_SIZE = 64\n",
        "EPOCHS = 25\n",
        "LEARNING_RATE = 1e-03\n",
        "#tokenizer = BertTokenizer.from_pretrained('bert-base-uncased')\n",
        "tokenizer = ElectraTokenizer.from_pretrained('google/electra-base-discriminator')\n",
        "#tokenizer.pad_token = tokenizer.eos_token\n",
        " \n",
        " \n",
        "import torch\n",
        "import torch.nn as nn\n",
        "import torch.nn.functional as F\n",
        "#torch.manual_seed(0)"
      ],
      "execution_count": null,
      "outputs": []
    },
    {
      "cell_type": "code",
      "metadata": {
        "id": "aibi_b-l_0kz"
      },
      "source": [
        "class CustomDataset(Dataset):\n",
        "\n",
        "    def __init__(self, dataframe, tokenizer, max_len):\n",
        "        self.tokenizer = tokenizer\n",
        "        self.data = dataframe\n",
        "        self.comment_text = dataframe.comment_text\n",
        "        self.targets = dataframe.list\n",
        "        self.max_len = max_len\n",
        "        #Add emotion list from dataframe\n",
        "        self.emotion=dataframe.emotion\n",
        "        self.dfID=dataframe.ID\n",
        "\n",
        "    def __len__(self):\n",
        "        return len(self.comment_text)\n",
        "\n",
        "    def __getitem__(self, index):\n",
        "        comment_text = str(self.comment_text[index])\n",
        "        comment_text = \" \".join(comment_text.split())\n",
        "\n",
        "        inputs = self.tokenizer.encode_plus(\n",
        "            comment_text,\n",
        "            None,\n",
        "            add_special_tokens=True,\n",
        "            max_length=self.max_len,\n",
        "            pad_to_max_length=True,\n",
        "            return_token_type_ids=True,\n",
        "            truncation=True\n",
        "        )\n",
        "        ids = inputs['input_ids']\n",
        "        mask = inputs['attention_mask']\n",
        "        token_type_ids = inputs[\"token_type_ids\"]\n",
        "\n",
        "\n",
        "        return {\n",
        "            'targets': torch.tensor(self.targets[index], dtype=torch.float),\n",
        "            'emotion':torch.tensor(self.emotion[index], dtype=torch.float),\n",
        "        }"
      ],
      "execution_count": null,
      "outputs": []
    },
    {
      "cell_type": "code",
      "metadata": {
        "colab": {
          "base_uri": "https://localhost:8080/"
        },
        "id": "yv7M41mwIdF8",
        "outputId": "2915105b-a685-4390-dfc4-7babd87c8767"
      },
      "source": [
        "# Creating the dataset and dataloader for the neural network\n",
        "\n",
        "train_size = 1\n",
        "train_dataset=df.sample(frac=train_size,random_state=200).reset_index(drop=True)\n",
        "test_dataset=df_test.sample(frac=train_size,random_state=200).reset_index(drop=True)\n",
        "valid_dataset=df_valid.sample(frac=1,random_state=200).reset_index(drop=True)\n",
        "\n",
        "\n",
        "print(\"FULL Dataset: {}\".format(df.shape))\n",
        "print(\"TRAIN Dataset: {}\".format(train_dataset.shape))\n",
        "print(\"TEST Dataset: {}\".format(test_dataset.shape))\n",
        "print(\"VALID Dataset: {}\".format(valid_dataset.shape))\n",
        "\n",
        "training_set = CustomDataset(train_dataset, tokenizer, MAX_LEN)\n",
        "testing_set = CustomDataset(test_dataset, tokenizer, MAX_LEN)\n",
        "valid_set= CustomDataset(valid_dataset, tokenizer, MAX_LEN)\n",
        "train_params = {'batch_size': TRAIN_BATCH_SIZE,\n",
        "                'shuffle': True,\n",
        "                'num_workers': 0\n",
        "                }\n",
        "\n",
        "test_params = {'batch_size': TRAIN_BATCH_SIZE,\n",
        "                'shuffle': True,\n",
        "                'num_workers': 0\n",
        "                }\n",
        "print(type(df.loc[0,'emotion']))\n",
        "print(type(df_test.loc[0,'emotion']))\n",
        "training_loader = DataLoader(training_set, **train_params)\n",
        "testing_loader = DataLoader(testing_set, **test_params)\n",
        "valid_loader=DataLoader(valid_set,**test_params)"
      ],
      "execution_count": null,
      "outputs": [
        {
          "output_type": "stream",
          "text": [
            "FULL Dataset: (10232, 33)\n",
            "TRAIN Dataset: (10232, 33)\n",
            "TEST Dataset: (1264, 32)\n",
            "VALID Dataset: (1280, 33)\n",
            "<class 'list'>\n",
            "<class 'list'>\n"
          ],
          "name": "stdout"
        }
      ]
    },
    {
      "cell_type": "code",
      "metadata": {
        "id": "RUTSkcRVIfom"
      },
      "source": [
        "# Creating the customized model, by adding a drop out and a dense layer on top of BERT-base to get the final output for the model. \n",
        "from torch import nn\n",
        " \n",
        "class FeedForward(nn.Module):\n",
        "  def __init__ (self, input_size, hidden1size, hidden2size, hidden3size, n_classes):\n",
        "    super(FeedForward, self).__init__()\n",
        "    self.l1 = nn.Linear(input_size, hidden1size)\n",
        "    self.l2 = nn.Linear(hidden1size, hidden2size)\n",
        "    self.l22 = nn.Linear(hidden2size, hidden3size)\n",
        "    self.l3 = nn.Linear(hidden3size, n_classes)\n",
        "    \n",
        "    self.relu = nn.ReLU()\n",
        "    self.dropout = nn.Dropout(0.2)\n",
        "\n",
        "  def forward(self, x):\n",
        "    x = self.l1(x)\n",
        "    x = self.relu(x)\n",
        "    x = self.l2(x)\n",
        "    x = self.relu(x)\n",
        "\n",
        "    x = self.l22(x)\n",
        "    x = self.relu(x)\n",
        "\n",
        "    x = self.l3(x)\n",
        "    return x\n",
        "\n",
        "\n",
        "\n",
        " \n",
        "model = FeedForward(6, 50,25,7,2)"
      ],
      "execution_count": null,
      "outputs": []
    },
    {
      "cell_type": "code",
      "metadata": {
        "colab": {
          "base_uri": "https://localhost:8080/"
        },
        "id": "-lRIcBqjIj8j",
        "outputId": "ed631072-b5ea-49ba-c6d4-472b50a547a4"
      },
      "source": [
        "model.to(device)"
      ],
      "execution_count": null,
      "outputs": [
        {
          "output_type": "execute_result",
          "data": {
            "text/plain": [
              "FeedForward(\n",
              "  (l1): Linear(in_features=6, out_features=50, bias=True)\n",
              "  (l2): Linear(in_features=50, out_features=25, bias=True)\n",
              "  (l22): Linear(in_features=25, out_features=7, bias=True)\n",
              "  (l3): Linear(in_features=7, out_features=2, bias=True)\n",
              "  (relu): ReLU()\n",
              "  (dropout): Dropout(p=0.2, inplace=False)\n",
              ")"
            ]
          },
          "metadata": {
            "tags": []
          },
          "execution_count": 14
        }
      ]
    },
    {
      "cell_type": "code",
      "metadata": {
        "id": "S1yAfDGeImz2"
      },
      "source": [
        " \n",
        "import time\n",
        "import datetime\n",
        "def format_time(elapsed):\n",
        "    elapsed_rounded = int(round((elapsed)))    \n",
        "    return str(datetime.timedelta(seconds=elapsed_rounded))"
      ],
      "execution_count": null,
      "outputs": []
    },
    {
      "cell_type": "code",
      "metadata": {
        "id": "vkZBgF_rIqC7"
      },
      "source": [
        "criterion = torch.nn.CrossEntropyLoss()\n",
        "optimizer = torch.optim.Adam(params =  model.parameters(), lr=LEARNING_RATE)"
      ],
      "execution_count": null,
      "outputs": []
    },
    {
      "cell_type": "code",
      "metadata": {
        "colab": {
          "base_uri": "https://localhost:8080/"
        },
        "id": "xpnOijRvIsF0",
        "outputId": "b9ca5032-2cd1-472c-b160-f638784755fb"
      },
      "source": [
        "#TRAIN THE MODEL\n",
        "val_losses=[]\n",
        "train_losses=[]\n",
        "accuracy_list=[]\n",
        " \n",
        "n_total_steps = len(training_loader)\n",
        "for epoch in range(EPOCHS):\n",
        "    t0 = time.time()\n",
        "    batch=0\n",
        "    train_loss=0\n",
        "    for _,data in enumerate(training_loader, 0):  \n",
        "        # origin shape: [100, 1, 28, 28]\n",
        "        # resized: [100, 784]\n",
        "\n",
        "        targets = data['targets'].to(device, dtype = torch.long)\n",
        "        emotions=data['emotion'].to(device,dtype=torch.float)\n",
        "        \n",
        "        # Forward pass\n",
        "        outputs = model(emotions)\n",
        "        loss = criterion(outputs, targets)\n",
        "        train_loss+=loss.item()\n",
        "        \n",
        "        # Backward and optimize\n",
        "        optimizer.zero_grad()\n",
        "        loss.backward()\n",
        "        optimizer.step()\n",
        "        batch +=1\n",
        "        \n",
        "        if (i+1) % 100 == 0:\n",
        "            print (f'Epoch [{epoch+1}/{num_epochs}], Step [{i+1}/{n_total_steps}], Loss: {loss.item():.4f}')\n",
        "\n",
        "    print(f\"   Epoch: {epoch} Train loss is :{train_loss/batch}\") \n",
        "    train_loss /=batch\n",
        "    train_losses.append(train_loss)    \n",
        "    print(f\"   Epoch {epoch} took: {format_time(time.time() - t0)} \\n\")\n",
        "\n",
        "    # Test the model\n",
        "    # In test phase, we don't need to compute gradients (for memory efficiency)\n",
        "    fin_targets=[]\n",
        "    fin_outputs=[]\n",
        "    with torch.no_grad():\n",
        "        val_loss, batch = 0, 1\n",
        "        n_correct = 0\n",
        "        n_samples = 0\n",
        "        for emotions, targets in testing_loader:\n",
        "            targets = data['targets'].to(device, dtype = torch.long)\n",
        "            emotions=data['emotion'].to(device,dtype=torch.float)\n",
        "            outputs = model(emotions)\n",
        "            loss = criterion(outputs, targets)\n",
        "            val_loss+=loss.item()\n",
        "            # max returns (value ,index)\n",
        "            _, predicted = torch.max(outputs.data, 1)\n",
        "            n_samples += targets.size(0)\n",
        "            n_correct += (predicted == targets).sum().item()\n",
        "            fin_targets.extend(targets.cpu().detach().numpy().tolist())\n",
        "            fin_outputs.extend(predicted.cpu().detach().numpy().tolist())\n",
        "            batch +=1\n",
        "        val_loss/=batch\n",
        "        val_losses.append(val_loss)\n",
        "\n",
        "        outputs=fin_outputs\n",
        "        #outputs = np.array(outputs) >= 0.5\n",
        "        targets=fin_targets\n",
        "\n",
        "        acc = 100.0 * n_correct / n_samples\n",
        "        f1_score_micro = metrics.f1_score(targets, outputs, average='micro')\n",
        "        f1_score_macro = metrics.f1_score(targets, outputs, average='macro')\n",
        "        print(f'Accuracy of the network on the 10000 test samples: {acc} %')\n",
        "        print(f\"Epoch: {epoch} - F1 Score on Testing Data (Micro) = {f1_score_micro}\")\n",
        "        print(f\"Epoch: {epoch} - F1 Score on Testing Data (Macro) = {f1_score_macro}\")\n",
        "  #if train_loss > val_loss:\n",
        "  # torch.save(model.state_dict(), \"/content/drive/My Drive/Bibek/models_saved/w9p7\")"
      ],
      "execution_count": null,
      "outputs": [
        {
          "output_type": "stream",
          "text": [
            "/usr/local/lib/python3.7/dist-packages/transformers/tokenization_utils_base.py:2079: FutureWarning: The `pad_to_max_length` argument is deprecated and will be removed in a future version, use `padding=True` or `padding='longest'` to pad to the longest sequence in the batch, or use `padding='max_length'` to pad to a max length. In this case, you can give a specific length with `max_length` (e.g. `max_length=45`) or leave max_length to None to pad to the maximal input size of the model (e.g. 512 for Bert).\n",
            "  FutureWarning,\n"
          ],
          "name": "stderr"
        },
        {
          "output_type": "stream",
          "text": [
            "   Epoch: 0 Train loss is :0.6652195528149605\n",
            "   Epoch 0 took: 0:00:03 \n",
            "\n",
            "Accuracy of the network on the 10000 test samples: 69.64285714285714 %\n",
            "Epoch: 0 - F1 Score on Testing Data (Micro) = 0.6964285714285714\n",
            "Epoch: 0 - F1 Score on Testing Data (Macro) = 0.4105263157894737\n",
            "   Epoch: 1 Train loss is :0.6496337171643972\n",
            "   Epoch 1 took: 0:00:03 \n",
            "\n",
            "Accuracy of the network on the 10000 test samples: 55.357142857142854 %\n",
            "Epoch: 1 - F1 Score on Testing Data (Micro) = 0.5535714285714286\n",
            "Epoch: 1 - F1 Score on Testing Data (Macro) = 0.3563218390804598\n",
            "   Epoch: 2 Train loss is :0.6488744519650936\n",
            "   Epoch 2 took: 0:00:03 \n",
            "\n",
            "Accuracy of the network on the 10000 test samples: 58.92857142857143 %\n",
            "Epoch: 2 - F1 Score on Testing Data (Micro) = 0.5892857142857143\n",
            "Epoch: 2 - F1 Score on Testing Data (Macro) = 0.37078651685393255\n",
            "   Epoch: 3 Train loss is :0.6478083848953247\n",
            "   Epoch 3 took: 0:00:03 \n",
            "\n",
            "Accuracy of the network on the 10000 test samples: 62.5 %\n",
            "Epoch: 3 - F1 Score on Testing Data (Micro) = 0.625\n",
            "Epoch: 3 - F1 Score on Testing Data (Macro) = 0.38461538461538464\n",
            "   Epoch: 4 Train loss is :0.6475648485124111\n",
            "   Epoch 4 took: 0:00:03 \n",
            "\n",
            "Accuracy of the network on the 10000 test samples: 64.28571428571429 %\n",
            "Epoch: 4 - F1 Score on Testing Data (Micro) = 0.6428571428571429\n",
            "Epoch: 4 - F1 Score on Testing Data (Macro) = 0.391304347826087\n",
            "   Epoch: 5 Train loss is :0.6471827451139689\n",
            "   Epoch 5 took: 0:00:03 \n",
            "\n",
            "Accuracy of the network on the 10000 test samples: 71.42857142857143 %\n",
            "Epoch: 5 - F1 Score on Testing Data (Micro) = 0.7142857142857143\n",
            "Epoch: 5 - F1 Score on Testing Data (Macro) = 0.41666666666666663\n",
            "   Epoch: 6 Train loss is :0.646854442730546\n",
            "   Epoch 6 took: 0:00:03 \n",
            "\n",
            "Accuracy of the network on the 10000 test samples: 51.785714285714285 %\n",
            "Epoch: 6 - F1 Score on Testing Data (Micro) = 0.5178571428571429\n",
            "Epoch: 6 - F1 Score on Testing Data (Macro) = 0.34117647058823536\n",
            "   Epoch: 7 Train loss is :0.6468621317297221\n",
            "   Epoch 7 took: 0:00:03 \n",
            "\n",
            "Accuracy of the network on the 10000 test samples: 51.785714285714285 %\n",
            "Epoch: 7 - F1 Score on Testing Data (Micro) = 0.5178571428571429\n",
            "Epoch: 7 - F1 Score on Testing Data (Macro) = 0.34117647058823536\n",
            "   Epoch: 8 Train loss is :0.6467893179506063\n",
            "   Epoch 8 took: 0:00:03 \n",
            "\n",
            "Accuracy of the network on the 10000 test samples: 58.92857142857143 %\n",
            "Epoch: 8 - F1 Score on Testing Data (Micro) = 0.5892857142857143\n",
            "Epoch: 8 - F1 Score on Testing Data (Macro) = 0.37078651685393255\n",
            "   Epoch: 9 Train loss is :0.646544038131833\n",
            "   Epoch 9 took: 0:00:03 \n",
            "\n",
            "Accuracy of the network on the 10000 test samples: 71.42857142857143 %\n",
            "Epoch: 9 - F1 Score on Testing Data (Micro) = 0.7142857142857143\n",
            "Epoch: 9 - F1 Score on Testing Data (Macro) = 0.41666666666666663\n",
            "   Epoch: 10 Train loss is :0.6465482525527477\n",
            "   Epoch 10 took: 0:00:03 \n",
            "\n",
            "Accuracy of the network on the 10000 test samples: 66.07142857142857 %\n",
            "Epoch: 10 - F1 Score on Testing Data (Micro) = 0.6607142857142857\n",
            "Epoch: 10 - F1 Score on Testing Data (Macro) = 0.39784946236559143\n",
            "   Epoch: 11 Train loss is :0.6466704495251179\n",
            "   Epoch 11 took: 0:00:03 \n",
            "\n",
            "Accuracy of the network on the 10000 test samples: 66.07142857142857 %\n",
            "Epoch: 11 - F1 Score on Testing Data (Micro) = 0.6607142857142857\n",
            "Epoch: 11 - F1 Score on Testing Data (Macro) = 0.39784946236559143\n",
            "   Epoch: 12 Train loss is :0.6463798366487026\n",
            "   Epoch 12 took: 0:00:03 \n",
            "\n",
            "Accuracy of the network on the 10000 test samples: 57.142857142857146 %\n",
            "Epoch: 12 - F1 Score on Testing Data (Micro) = 0.5714285714285714\n",
            "Epoch: 12 - F1 Score on Testing Data (Macro) = 0.36363636363636365\n",
            "   Epoch: 13 Train loss is :0.6465722870081663\n",
            "   Epoch 13 took: 0:00:03 \n",
            "\n",
            "Accuracy of the network on the 10000 test samples: 64.28571428571429 %\n",
            "Epoch: 13 - F1 Score on Testing Data (Micro) = 0.6428571428571429\n",
            "Epoch: 13 - F1 Score on Testing Data (Macro) = 0.391304347826087\n",
            "   Epoch: 14 Train loss is :0.6463887892663479\n",
            "   Epoch 14 took: 0:00:03 \n",
            "\n",
            "Accuracy of the network on the 10000 test samples: 66.07142857142857 %\n",
            "Epoch: 14 - F1 Score on Testing Data (Micro) = 0.6607142857142857\n",
            "Epoch: 14 - F1 Score on Testing Data (Macro) = 0.39784946236559143\n",
            "   Epoch: 15 Train loss is :0.6463968951255084\n",
            "   Epoch 15 took: 0:00:03 \n",
            "\n",
            "Accuracy of the network on the 10000 test samples: 67.85714285714286 %\n",
            "Epoch: 15 - F1 Score on Testing Data (Micro) = 0.6785714285714286\n",
            "Epoch: 15 - F1 Score on Testing Data (Macro) = 0.4042553191489362\n",
            "   Epoch: 16 Train loss is :0.6461730793118476\n",
            "   Epoch 16 took: 0:00:03 \n",
            "\n",
            "Accuracy of the network on the 10000 test samples: 55.357142857142854 %\n",
            "Epoch: 16 - F1 Score on Testing Data (Micro) = 0.5535714285714286\n",
            "Epoch: 16 - F1 Score on Testing Data (Macro) = 0.3563218390804598\n",
            "   Epoch: 17 Train loss is :0.6463789332658052\n",
            "   Epoch 17 took: 0:00:03 \n",
            "\n",
            "Accuracy of the network on the 10000 test samples: 53.57142857142857 %\n",
            "Epoch: 17 - F1 Score on Testing Data (Micro) = 0.5357142857142857\n",
            "Epoch: 17 - F1 Score on Testing Data (Macro) = 0.3488372093023256\n",
            "   Epoch: 18 Train loss is :0.6461273971945047\n",
            "   Epoch 18 took: 0:00:03 \n",
            "\n",
            "Accuracy of the network on the 10000 test samples: 66.07142857142857 %\n",
            "Epoch: 18 - F1 Score on Testing Data (Micro) = 0.6607142857142857\n",
            "Epoch: 18 - F1 Score on Testing Data (Macro) = 0.48021494870542253\n",
            "   Epoch: 19 Train loss is :0.6460659001022577\n",
            "   Epoch 19 took: 0:00:03 \n",
            "\n",
            "Accuracy of the network on the 10000 test samples: 48.214285714285715 %\n",
            "Epoch: 19 - F1 Score on Testing Data (Micro) = 0.48214285714285715\n",
            "Epoch: 19 - F1 Score on Testing Data (Macro) = 0.32530120481927716\n",
            "   Epoch: 20 Train loss is :0.6461311113089323\n",
            "   Epoch 20 took: 0:00:03 \n",
            "\n",
            "Accuracy of the network on the 10000 test samples: 66.07142857142857 %\n",
            "Epoch: 20 - F1 Score on Testing Data (Micro) = 0.6607142857142857\n",
            "Epoch: 20 - F1 Score on Testing Data (Macro) = 0.4432234432234432\n",
            "   Epoch: 21 Train loss is :0.6458036348223686\n",
            "   Epoch 21 took: 0:00:03 \n",
            "\n",
            "Accuracy of the network on the 10000 test samples: 60.714285714285715 %\n",
            "Epoch: 21 - F1 Score on Testing Data (Micro) = 0.6071428571428571\n",
            "Epoch: 21 - F1 Score on Testing Data (Macro) = 0.3777777777777777\n",
            "   Epoch: 22 Train loss is :0.6458944506943226\n",
            "   Epoch 22 took: 0:00:03 \n",
            "\n",
            "Accuracy of the network on the 10000 test samples: 55.357142857142854 %\n",
            "Epoch: 22 - F1 Score on Testing Data (Micro) = 0.5535714285714286\n",
            "Epoch: 22 - F1 Score on Testing Data (Macro) = 0.3563218390804598\n",
            "   Epoch: 23 Train loss is :0.6460348352789879\n",
            "   Epoch 23 took: 0:00:03 \n",
            "\n",
            "Accuracy of the network on the 10000 test samples: 64.28571428571429 %\n",
            "Epoch: 23 - F1 Score on Testing Data (Micro) = 0.6428571428571429\n",
            "Epoch: 23 - F1 Score on Testing Data (Macro) = 0.391304347826087\n",
            "   Epoch: 24 Train loss is :0.6460085522383452\n",
            "   Epoch 24 took: 0:00:03 \n",
            "\n",
            "Accuracy of the network on the 10000 test samples: 60.714285714285715 %\n",
            "Epoch: 24 - F1 Score on Testing Data (Micro) = 0.6071428571428571\n",
            "Epoch: 24 - F1 Score on Testing Data (Macro) = 0.3777777777777777\n"
          ],
          "name": "stdout"
        }
      ]
    },
    {
      "cell_type": "code",
      "metadata": {
        "id": "WC85FQv2Ix-6"
      },
      "source": [
        "from pandas import DataFrame\n",
        "df=DataFrame(train_losses,columns=['train_losses'])\n",
        "df=DataFrame(val_losses,columns=['val_losses'])\n",
        "#df.to_csv(\"/content/drive/My Drive/Bibek/Results/w10_p4.csv\")"
      ],
      "execution_count": null,
      "outputs": []
    },
    {
      "cell_type": "code",
      "metadata": {
        "id": "5DYYauxJI3NY",
        "colab": {
          "base_uri": "https://localhost:8080/",
          "height": 393
        },
        "outputId": "adc5e414-9d4c-4bb7-80db-a09eb1f1d338"
      },
      "source": [
        "\n",
        "import matplotlib.pyplot as plt\n",
        "plt.plot(train_losses, label=\"Training loss\")\n",
        "plt.plot(val_losses, label=\"Validation loss\")\n",
        "\n",
        "print(train_losses)\n",
        "print(val_losses)\n",
        "\n",
        "plt.xlabel('Epoch', fontsize=18)\n",
        "plt.ylabel('Losses', fontsize=16)\n",
        "plt.title('Training Loss VS Validation Loss', fontsize=15)\n",
        "\n",
        "plt.legend()\n",
        "plt.savefig('/content/drive/My Drive/Bibek/w10_p4-epoch1.eps')\n",
        "\n",
        "#plt.title(\"Losses\")"
      ],
      "execution_count": null,
      "outputs": [
        {
          "output_type": "stream",
          "text": [
            "The PostScript backend does not support transparency; partially transparent artists will be rendered opaque.\n",
            "The PostScript backend does not support transparency; partially transparent artists will be rendered opaque.\n"
          ],
          "name": "stderr"
        },
        {
          "output_type": "stream",
          "text": [
            "[0.6652195528149605, 0.6496337171643972, 0.6488744519650936, 0.6478083848953247, 0.6475648485124111, 0.6471827451139689, 0.646854442730546, 0.6468621317297221, 0.6467893179506063, 0.646544038131833, 0.6465482525527477, 0.6466704495251179, 0.6463798366487026, 0.6465722870081663, 0.6463887892663479, 0.6463968951255084, 0.6461730793118476, 0.6463789332658052, 0.6461273971945047, 0.6460659001022577, 0.6461311113089323, 0.6458036348223686, 0.6458944506943226, 0.6460348352789879, 0.6460085522383452]\n",
            "[0.5942293008168539, 0.6742357640039354, 0.6484649862561908, 0.6196513630094982, 0.6214621521177746, 0.574740625563122, 0.6807942049843925, 0.669665393375215, 0.6471505619230724, 0.5860766342708043, 0.6072858401707241, 0.6029003574734643, 0.6484275204794747, 0.6191725390298026, 0.5981045109885079, 0.5965724445524669, 0.6490132354554676, 0.6649724642435709, 0.6074367818378267, 0.6718585037049793, 0.5965004080817813, 0.6409315268198649, 0.6864572139013381, 0.6191714037032354, 0.6391447498684838]\n"
          ],
          "name": "stdout"
        },
        {
          "output_type": "display_data",
          "data": {
            "image/png": "[encoded data removed]",
            "text/plain": [
              "<Figure size 432x288 with 1 Axes>"
            ]
          },
          "metadata": {
            "tags": [],
            "needs_background": "light"
          }
        }
      ]
    },
    {
      "cell_type": "code",
      "metadata": {
        "id": "PSJFohS5I6eu",
        "colab": {
          "base_uri": "https://localhost:8080/"
        },
        "outputId": "eef2142c-3ae9-4f91-bba4-99542daf327f"
      },
      "source": [
        "model.eval()\n",
        "fin_targets=[]\n",
        "fin_outputs=[]\n",
        "\n",
        "\n",
        "with torch.no_grad():\n",
        "        val_loss, batch = 0, 1\n",
        "        n_correct = 0\n",
        "        n_samples = 0\n",
        "        for emotions, targets in valid_loader:\n",
        "            targets = data['targets'].to(device, dtype = torch.long)\n",
        "            emotions=data['emotion'].to(device,dtype=torch.float)\n",
        "            outputs = model(emotions)\n",
        "            loss = criterion(outputs, targets)\n",
        "            val_loss+=loss.item()\n",
        "            # max returns (value ,index)\n",
        "            _, predicted = torch.max(outputs.data, 1)\n",
        "            n_samples += targets.size(0)\n",
        "            n_correct += (predicted == targets).sum().item()\n",
        "            fin_targets.extend(targets.cpu().detach().numpy().tolist())\n",
        "            fin_outputs.extend(predicted.cpu().detach().numpy().tolist())\n",
        "            batch +=1\n",
        "        val_loss/=batch\n",
        "        val_losses.append(val_loss)\n",
        "\n",
        "        outputs=fin_outputs\n",
        "        #outputs = np.array(outputs) >= 0.5\n",
        "        targets=fin_targets\n",
        "\n",
        "        acc = 100.0 * n_correct / n_samples\n",
        "        f1_score_micro = metrics.f1_score(targets, outputs, average='micro')\n",
        "        f1_score_macro = metrics.f1_score(targets, outputs, average='macro')\n",
        "        print(f'Accuracy of the network on the 10000 test samples: {acc} %')\n",
        "        print(f\"Epoch: {epoch} - F1 Score on Testing Data (Macro) = {f1_score_macro}\")"
      ],
      "execution_count": null,
      "outputs": [
        {
          "output_type": "stream",
          "text": [
            "/usr/local/lib/python3.7/dist-packages/transformers/tokenization_utils_base.py:2079: FutureWarning: The `pad_to_max_length` argument is deprecated and will be removed in a future version, use `padding=True` or `padding='longest'` to pad to the longest sequence in the batch, or use `padding='max_length'` to pad to a max length. In this case, you can give a specific length with `max_length` (e.g. `max_length=45`) or leave max_length to None to pad to the maximal input size of the model (e.g. 512 for Bert).\n",
            "  FutureWarning,\n"
          ],
          "name": "stderr"
        },
        {
          "output_type": "stream",
          "text": [
            "Accuracy of the network on the 10000 test samples: 60.714285714285715 %\n",
            "Epoch: 24 - F1 Score on Testing Data (Macro) = 0.3777777777777777\n"
          ],
          "name": "stdout"
        }
      ]
    },
    {
      "cell_type": "code",
      "metadata": {
        "id": "DKX2jVownUng"
      },
      "source": [
        "# df_demo=pd.read_csv(\"/content/drive/MyDrive/Bibek/LIAR-DATASET ORIGINAL/final/Demo.csv\")\n",
        "# df_demo['comment_text']=\"\"\n",
        "# df_demo['comment_text']= df_demo[\"statement\"]+\". \"+df_demo['sentiment_code'].astype(str)\n",
        "\n",
        "# df_demo['emotion']=\"[\"+df_demo['anger'].astype(str)+\",\"+df_demo['disgust'].astype(str)+\",\"\\\n",
        "# +df_demo['fear'].astype(str)+\",\"+df_demo['joy'].astype(str)+\",\"+df_demo['sad'].astype(str) + \"]\"\n",
        "# for i in range(len(df_demo[\"emotion\"])):\n",
        "#   try:\n",
        "#     df_demo[\"emotion\"][i]=convert_to_list(df_demo[\"emotion\"][i])\n",
        "#   except:\n",
        "#     print(i,\"====\",df_demo[\"emotion\"][1])\n",
        "\n",
        "# df_demo['list']=df_demo['list'].apply(convert_to_list)\n",
        "\n",
        "\n",
        "# demo_set = CustomDataset(df_demo, tokenizer, MAX_LEN)\n",
        "\n",
        "# demo_params = {'batch_size': 8,\n",
        "#                 'shuffle': False,\n",
        "#                 'num_workers': 0\n",
        "#                 }\n",
        "# demo_loader = DataLoader(demo_set, **demo_params)\n",
        "\n",
        "\n",
        "# with torch.no_grad():\n",
        "#     c=0\n",
        "#     for _, data in enumerate(demo_loader, 0):\n",
        "#         ids = data['ids'].to(device, dtype = torch.long)\n",
        "#         mask = data['mask'].to(device, dtype = torch.long)\n",
        "#         token_type_ids = data['token_type_ids'].to(device, dtype = torch.long)\n",
        "#         targets = data['targets'].to(device, dtype = torch.float)\n",
        "#         emotions=data['emotion'].to(device,dtype=torch.float)\n",
        "#         c+=1\n",
        "#         try:\n",
        "#                       outputs = model(ids, mask, token_type_ids,emotions)\n",
        "#                       fin_targets.extend(targets.cpu().detach().numpy().tolist())\n",
        "#                       fin_outputs.extend(torch.sigmoid(outputs).cpu().detach().numpy().tolist())\n",
        "#                       print(torch.sigmoid(outputs))\n",
        "#                       # print(emotions)\n",
        "\n",
        "\n",
        "#         except EOFError:\n",
        "#           print(f\"some error at {c}\",EOFError)\n"
      ],
      "execution_count": null,
      "outputs": []
    },
    {
      "cell_type": "code",
      "metadata": {
        "id": "9eZYjJRzmERo"
      },
      "source": [
        ""
      ],
      "execution_count": null,
      "outputs": []
    }
  ]
}